{
 "cells": [
  {
   "cell_type": "code",
   "execution_count": null,
   "metadata": {},
   "outputs": [],
   "source": [
    "from __future__ import print_function\n",
    "import tensorflow.keras as keras\n",
    "import tensorflow_model_optimization as tfmot\n",
    "from tensorflow.keras.layers import *\n",
    "from PIL import Image\n",
    "from keras.preprocessing.image import ImageDataGenerator, array_to_img, img_to_array, load_img\n",
    "from tensorflow.keras.optimizers import Adam\n",
    "from tensorflow.keras.callbacks import ModelCheckpoint, LearningRateScheduler, EarlyStopping\n",
    "from tensorflow.keras import backend as K\n",
    "from tensorflow.keras.models import Model\n",
    "from tensorflow.keras.datasets import cifar10\n",
    "import numpy as np\n",
    "from tensorflow.keras.models import load_model\n",
    "import os\n",
    "from art.attacks import FastGradientMethod\n",
    "from art.classifiers import KerasClassifier\n",
    "import matplotlib.pyplot as plt\n",
    "from numpy import load"
   ]
  },
  {
   "cell_type": "code",
   "execution_count": 8,
   "metadata": {},
   "outputs": [],
   "source": [
    "import tensorflow as tf\n",
    "\n",
    "tf.compat.v1.disable_eager_execution()"
   ]
  },
  {
   "cell_type": "markdown",
   "metadata": {},
   "source": [
    "## Data Preparation"
   ]
  },
  {
   "cell_type": "code",
   "execution_count": 9,
   "metadata": {},
   "outputs": [
    {
     "name": "stdout",
     "output_type": "stream",
     "text": [
      "x_train shape: (50000, 32, 32, 3)\n",
      "50000 train samples\n",
      "10000 test samples\n",
      "y_train shape: (50000, 1)\n"
     ]
    }
   ],
   "source": [
    "# Load the CIFAR10 data.\n",
    "(x_train, y_train), (x_test, y_test) = cifar10.load_data()\n",
    "\n",
    "# Input image dimensions.\n",
    "input_shape = x_train.shape[1:]\n",
    "\n",
    "# Normalize data.\n",
    "x_train = x_train.astype('float32') / 255\n",
    "x_test = x_test.astype('float32') / 255\n",
    "\n",
    "# If subtract pixel mean is enabled\n",
    "if True:\n",
    "    x_train_mean = np.mean(x_train, axis=0)\n",
    "    x_train -= x_train_mean\n",
    "    x_test -= x_train_mean\n",
    "\n",
    "print('x_train shape:', x_train.shape)\n",
    "print(x_train.shape[0], 'train samples')\n",
    "print(x_test.shape[0], 'test samples')\n",
    "print('y_train shape:', y_train.shape)\n",
    "\n",
    "y_train = keras.utils.to_categorical(y_train, 10)\n",
    "y_test = keras.utils.to_categorical(y_test, 10)"
   ]
  },
  {
   "cell_type": "code",
   "execution_count": 10,
   "metadata": {},
   "outputs": [
    {
     "name": "stdout",
     "output_type": "stream",
     "text": [
      "10000/10000 [==============================] - 12s 1ms/sample - loss: 0.5075 - accuracy: 0.9138\n",
      "Test loss: 0.5075193762779235\n",
      "Test accuracy: 0.9138\n"
     ]
    }
   ],
   "source": [
    "model = load_model('Resnet18-200epochs.h5')\n",
    "scores = model.evaluate(x_test, y_test, verbose=1)\n",
    "print('Test loss:', scores[0])\n",
    "print('Test accuracy:', scores[1])"
   ]
  },
  {
   "cell_type": "code",
   "execution_count": 21,
   "metadata": {},
   "outputs": [],
   "source": [
    "classifier = KerasClassifier(model, clip_values=None, use_logits=False)"
   ]
  },
  {
   "cell_type": "markdown",
   "metadata": {},
   "source": [
    "## FGSM Samples creation"
   ]
  },
  {
   "cell_type": "code",
   "execution_count": 10,
   "metadata": {},
   "outputs": [],
   "source": [
    "fgsm1 = FastGradientMethod(classifier, eps=0.01)\n",
    "train1 = fgsm1.generate(x_train)\n",
    "test1 = fgsm1.generate(x_test)"
   ]
  },
  {
   "cell_type": "code",
   "execution_count": 11,
   "metadata": {},
   "outputs": [],
   "source": [
    "fgsm2 = FastGradientMethod(classifier, eps=0.1)\n",
    "train2 = fgsm2.generate(x_train)\n",
    "test2 = fgsm2.generate(x_test)"
   ]
  },
  {
   "cell_type": "markdown",
   "metadata": {},
   "source": [
    "## Saving and Loading for testing"
   ]
  },
  {
   "cell_type": "code",
   "execution_count": 25,
   "metadata": {},
   "outputs": [],
   "source": [
    "from numpy import asarray\n",
    "from numpy import save\n",
    "save('fgsmtrain(0.01).npy', train1)\n",
    "save('fgsmtest(0.01).npy', test1)\n",
    "save('fgsmtrain(0.1).npy', train2)\n",
    "save('fgsmtest(0.1).npy', test2)"
   ]
  },
  {
   "cell_type": "code",
   "execution_count": 24,
   "metadata": {},
   "outputs": [
    {
     "name": "stdout",
     "output_type": "stream",
     "text": [
      "Accuracy on fgsm 0.1 test examples: 24.97%\n"
     ]
    }
   ],
   "source": [
    "from numpy import load\n",
    "data = load('fgsmtest(0.01).npy')\n",
    "predictions = model.predict(data)\n",
    "accuracy = np.sum(np.argmax(predictions, axis=1) == np.argmax(y_test, axis=1)) / len(y_test)\n",
    "print(\"Accuracy on fgsm 0.1 test examples: {}%\".format(accuracy * 100))"
   ]
  },
  {
   "cell_type": "code",
   "execution_count": 12,
   "metadata": {},
   "outputs": [],
   "source": [
    "noise = np.random.normal(loc=0.5, scale=0.5, size=x_train.shape)\n",
    "x_train_noisy = x_train + noise\n",
    "noise = np.random.normal(loc=0.5, scale=0.5, size=x_test.shape)\n",
    "x_test_noisy = x_test + noise\n",
    "\n",
    "train3 = np.clip(x_train_noisy, 0., 1.)\n",
    "test3 = np.clip(x_test_noisy, 0., 1.)"
   ]
  },
  {
   "cell_type": "code",
   "execution_count": 13,
   "metadata": {},
   "outputs": [
    {
     "name": "stderr",
     "output_type": "stream",
     "text": [
      "Clipping input data to the valid range for imshow with RGB data ([0..1] for floats or [0..255] for integers).\n",
      "Clipping input data to the valid range for imshow with RGB data ([0..1] for floats or [0..255] for integers).\n"
     ]
    },
    {
     "data": {
      "image/png": "[encoded data removed]",
      "text/plain": [
       "<Figure size 432x288 with 3 Axes>"
      ]
     },
     "metadata": {
      "needs_background": "light"
     },
     "output_type": "display_data"
    }
   ],
   "source": [
    "idx = 4\n",
    "plt.subplot(1,3,1)\n",
    "plt.imshow(test1[idx])\n",
    "plt.title('0.01')\n",
    "plt.subplot(1,3,2)\n",
    "plt.imshow(test2[idx])\n",
    "plt.title('0.1')\n",
    "plt.subplot(1,3,3)\n",
    "plt.imshow(test3[idx])\n",
    "plt.title('noisy')\n",
    "plt.show()"
   ]
  },
  {
   "cell_type": "markdown",
   "metadata": {},
   "source": [
    "## Original Model Accuracy on FGSM Samples"
   ]
  },
  {
   "cell_type": "code",
   "execution_count": 14,
   "metadata": {},
   "outputs": [
    {
     "name": "stdout",
     "output_type": "stream",
     "text": [
      "Accuracy on fgsm 0.01 test examples: 24.97%\n"
     ]
    }
   ],
   "source": [
    "predictions = model.predict(test1)\n",
    "accuracy = np.sum(np.argmax(predictions, axis=1) == np.argmax(y_test, axis=1)) / len(y_test)\n",
    "print(\"Accuracy on fgsm 0.01 test examples: {}%\".format(accuracy * 100))"
   ]
  },
  {
   "cell_type": "code",
   "execution_count": 15,
   "metadata": {},
   "outputs": [
    {
     "name": "stdout",
     "output_type": "stream",
     "text": [
      "Accuracy on fgsm 0.1 test examples: 9.58%\n"
     ]
    }
   ],
   "source": [
    "predictions = model.predict(test2)\n",
    "accuracy = np.sum(np.argmax(predictions, axis=1) == np.argmax(y_test, axis=1)) / len(y_test)\n",
    "print(\"Accuracy on fgsm 0.1 test examples: {}%\".format(accuracy * 100))"
   ]
  },
  {
   "cell_type": "markdown",
   "metadata": {},
   "source": [
    "## DAE trained on eps = 0.01 fgsm samples solely"
   ]
  },
  {
   "cell_type": "code",
   "execution_count": 30,
   "metadata": {
    "scrolled": true
   },
   "outputs": [
    {
     "name": "stdout",
     "output_type": "stream",
     "text": [
      "Train on 50000 samples, validate on 10000 samples\n",
      "Epoch 1/20\n",
      "49920/50000 [============================>.] - ETA: 0s - loss: 0.0375\n",
      "Epoch 00001: val_loss improved from inf to 0.03571, saving model to best_model1.h5\n",
      "50000/50000 [==============================] - 106s 2ms/sample - loss: 0.0375 - val_loss: 0.0357\n",
      "Epoch 2/20\n",
      "49920/50000 [============================>.] - ETA: 0s - loss: 0.0301\n",
      "Epoch 00002: val_loss improved from 0.03571 to 0.02929, saving model to best_model1.h5\n",
      "50000/50000 [==============================] - 97s 2ms/sample - loss: 0.0301 - val_loss: 0.0293\n",
      "Epoch 3/20\n",
      "49920/50000 [============================>.] - ETA: 0s - loss: 0.0298\n",
      "Epoch 00003: val_loss improved from 0.02929 to 0.02911, saving model to best_model1.h5\n",
      "50000/50000 [==============================] - 97s 2ms/sample - loss: 0.0298 - val_loss: 0.0291\n",
      "Epoch 4/20\n",
      "49920/50000 [============================>.] - ETA: 0s - loss: 0.0297\n",
      "Epoch 00004: val_loss improved from 0.02911 to 0.02883, saving model to best_model1.h5\n",
      "50000/50000 [==============================] - 97s 2ms/sample - loss: 0.0297 - val_loss: 0.0288\n",
      "Epoch 5/20\n",
      "49920/50000 [============================>.] - ETA: 0s - loss: 0.0296\n",
      "Epoch 00005: val_loss improved from 0.02883 to 0.02882, saving model to best_model1.h5\n",
      "50000/50000 [==============================] - 96s 2ms/sample - loss: 0.0296 - val_loss: 0.0288\n",
      "Epoch 6/20\n",
      "49920/50000 [============================>.] - ETA: 0s - loss: 0.0295\n",
      "Epoch 00006: val_loss improved from 0.02882 to 0.02869, saving model to best_model1.h5\n",
      "50000/50000 [==============================] - 96s 2ms/sample - loss: 0.0295 - val_loss: 0.0287\n",
      "Epoch 7/20\n",
      "49920/50000 [============================>.] - ETA: 0s - loss: 0.0295\n",
      "Epoch 00007: val_loss improved from 0.02869 to 0.02867, saving model to best_model1.h5\n",
      "50000/50000 [==============================] - 96s 2ms/sample - loss: 0.0295 - val_loss: 0.0287\n",
      "Epoch 8/20\n",
      "49920/50000 [============================>.] - ETA: 0s - loss: 0.0295\n",
      "Epoch 00008: val_loss did not improve from 0.02867\n",
      "50000/50000 [==============================] - 96s 2ms/sample - loss: 0.0295 - val_loss: 0.0287\n",
      "Epoch 9/20\n",
      "49920/50000 [============================>.] - ETA: 0s - loss: 0.0294\n",
      "Epoch 00009: val_loss improved from 0.02867 to 0.02862, saving model to best_model1.h5\n",
      "50000/50000 [==============================] - 96s 2ms/sample - loss: 0.0294 - val_loss: 0.0286\n",
      "Epoch 10/20\n",
      "49920/50000 [============================>.] - ETA: 0s - loss: 0.0294\n",
      "Epoch 00010: val_loss did not improve from 0.02862\n",
      "50000/50000 [==============================] - 97s 2ms/sample - loss: 0.0294 - val_loss: 0.0289\n",
      "Epoch 11/20\n",
      "49920/50000 [============================>.] - ETA: 0s - loss: 0.0294\n",
      "Epoch 00011: val_loss did not improve from 0.02862\n",
      "50000/50000 [==============================] - 96s 2ms/sample - loss: 0.0294 - val_loss: 0.0288\n",
      "Epoch 12/20\n",
      "49920/50000 [============================>.] - ETA: 0s - loss: 0.0294\n",
      "Epoch 00012: val_loss improved from 0.02862 to 0.02856, saving model to best_model1.h5\n",
      "50000/50000 [==============================] - 96s 2ms/sample - loss: 0.0294 - val_loss: 0.0286\n",
      "Epoch 13/20\n",
      "49920/50000 [============================>.] - ETA: 0s - loss: 0.0294\n",
      "Epoch 00013: val_loss did not improve from 0.02856\n",
      "50000/50000 [==============================] - 96s 2ms/sample - loss: 0.0294 - val_loss: 0.0286\n",
      "Epoch 14/20\n",
      "49920/50000 [============================>.] - ETA: 0s - loss: 0.0293\n",
      "Epoch 00014: val_loss did not improve from 0.02856\n",
      "50000/50000 [==============================] - 96s 2ms/sample - loss: 0.0293 - val_loss: 0.0286\n",
      "Epoch 15/20\n",
      "49920/50000 [============================>.] - ETA: 0s - loss: 0.0294\n",
      "Epoch 00015: val_loss improved from 0.02856 to 0.02852, saving model to best_model1.h5\n",
      "50000/50000 [==============================] - 96s 2ms/sample - loss: 0.0294 - val_loss: 0.0285\n",
      "Epoch 16/20\n",
      "49920/50000 [============================>.] - ETA: 0s - loss: 0.0293\n",
      "Epoch 00016: val_loss improved from 0.02852 to 0.02850, saving model to best_model1.h5\n",
      "50000/50000 [==============================] - 96s 2ms/sample - loss: 0.0293 - val_loss: 0.0285\n",
      "Epoch 17/20\n",
      "49920/50000 [============================>.] - ETA: 0s - loss: 0.0293\n",
      "Epoch 00017: val_loss improved from 0.02850 to 0.02848, saving model to best_model1.h5\n",
      "50000/50000 [==============================] - 96s 2ms/sample - loss: 0.0293 - val_loss: 0.0285\n",
      "Epoch 18/20\n",
      "49920/50000 [============================>.] - ETA: 0s - loss: 0.0293\n",
      "Epoch 00018: val_loss did not improve from 0.02848\n",
      "50000/50000 [==============================] - 96s 2ms/sample - loss: 0.0293 - val_loss: 0.0285\n",
      "Epoch 19/20\n",
      "49920/50000 [============================>.] - ETA: 0s - loss: 0.0293\n",
      "Epoch 00019: val_loss improved from 0.02848 to 0.02847, saving model to best_model1.h5\n",
      "50000/50000 [==============================] - 97s 2ms/sample - loss: 0.0293 - val_loss: 0.0285\n",
      "Epoch 20/20\n",
      "49920/50000 [============================>.] - ETA: 0s - loss: 0.0293\n",
      "Epoch 00020: val_loss improved from 0.02847 to 0.02847, saving model to best_model1.h5\n",
      "50000/50000 [==============================] - 101s 2ms/sample - loss: 0.0293 - val_loss: 0.0285\n"
     ]
    },
    {
     "data": {
      "text/plain": [
       "<tensorflow.python.keras.callbacks.History at 0x7f491157ffd0>"
      ]
     },
     "execution_count": 30,
     "metadata": {},
     "output_type": "execute_result"
    }
   ],
   "source": [
    "dae1 = denoising_autoencoder()\n",
    "dae1.compile(optimizer='adam', loss='mse')\n",
    "\n",
    "checkpoint = ModelCheckpoint('best_model1.h5', verbose=1, save_best_only=True, save_weights_only=True)\n",
    "\n",
    "dae1.fit(train1,\n",
    "       train1,\n",
    "       validation_data=(test1, test1),\n",
    "       epochs=20,\n",
    "       batch_size=128,\n",
    "       callbacks=[checkpoint])"
   ]
  },
  {
   "cell_type": "code",
   "execution_count": 33,
   "metadata": {},
   "outputs": [
    {
     "name": "stdout",
     "output_type": "stream",
     "text": [
      "Accuracy on denoised 0.01 test examples: 38.92%\n",
      "Accuracy on Original test examples: 53.56999999999999%\n",
      "Accuracy on denoised 0.1 test examples: 12.3%\n"
     ]
    }
   ],
   "source": [
    "test11 = dae1.predict(test1)\n",
    "test12 = dae1.predict(x_test)\n",
    "test13 = dae1.predict(test2)\n",
    "\n",
    "pred1 = model.predict(test11)\n",
    "pred2 = model.predict(test12)\n",
    "pred3 = model.predict(test13)\n",
    "\n",
    "accuracy = np.sum(np.argmax(pred1, axis=1) == np.argmax(y_test, axis=1)) / len(y_test)\n",
    "print(\"Accuracy on denoised 0.01 test examples: {}%\".format(accuracy * 100))\n",
    "\n",
    "accuracy = np.sum(np.argmax(pred2, axis=1) == np.argmax(y_test, axis=1)) / len(y_test)\n",
    "print(\"Accuracy on Original test examples: {}%\".format(accuracy * 100))\n",
    "\n",
    "accuracy = np.sum(np.argmax(pred3, axis=1) == np.argmax(y_test, axis=1)) / len(y_test)\n",
    "print(\"Accuracy on denoised 0.1 test examples: {}%\".format(accuracy * 100))"
   ]
  },
  {
   "cell_type": "markdown",
   "metadata": {},
   "source": [
    "## DAE trained on eps = 0.1 fgsm samples solely"
   ]
  },
  {
   "cell_type": "code",
   "execution_count": 26,
   "metadata": {},
   "outputs": [
    {
     "name": "stdout",
     "output_type": "stream",
     "text": [
      "Train on 50000 samples, validate on 10000 samples\n",
      "Epoch 1/40\n",
      "49920/50000 [============================>.] - ETA: 0s - loss: 0.0428\n",
      "Epoch 00001: val_loss improved from inf to 0.04033, saving model to best_model2.h5\n",
      "50000/50000 [==============================] - 103s 2ms/sample - loss: 0.0428 - val_loss: 0.0403\n",
      "Epoch 2/40\n",
      "49920/50000 [============================>.] - ETA: 0s - loss: 0.0364\n",
      "Epoch 00002: val_loss improved from 0.04033 to 0.03521, saving model to best_model2.h5\n",
      "50000/50000 [==============================] - 99s 2ms/sample - loss: 0.0364 - val_loss: 0.0352\n",
      "Epoch 3/40\n",
      "49920/50000 [============================>.] - ETA: 0s - loss: 0.0358\n",
      "Epoch 00003: val_loss improved from 0.03521 to 0.03485, saving model to best_model2.h5\n",
      "50000/50000 [==============================] - 98s 2ms/sample - loss: 0.0358 - val_loss: 0.0348\n",
      "Epoch 4/40\n",
      "49920/50000 [============================>.] - ETA: 0s - loss: 0.0355\n",
      "Epoch 00004: val_loss improved from 0.03485 to 0.03455, saving model to best_model2.h5\n",
      "50000/50000 [==============================] - 98s 2ms/sample - loss: 0.0355 - val_loss: 0.0346\n",
      "Epoch 5/40\n",
      "49920/50000 [============================>.] - ETA: 0s - loss: 0.0353\n",
      "Epoch 00005: val_loss improved from 0.03455 to 0.03434, saving model to best_model2.h5\n",
      "50000/50000 [==============================] - 98s 2ms/sample - loss: 0.0353 - val_loss: 0.0343\n",
      "Epoch 6/40\n",
      "49920/50000 [============================>.] - ETA: 0s - loss: 0.0352\n",
      "Epoch 00006: val_loss did not improve from 0.03434\n",
      "50000/50000 [==============================] - 98s 2ms/sample - loss: 0.0352 - val_loss: 0.0347\n",
      "Epoch 7/40\n",
      "49920/50000 [============================>.] - ETA: 0s - loss: 0.0351\n",
      "Epoch 00007: val_loss did not improve from 0.03434\n",
      "50000/50000 [==============================] - 97s 2ms/sample - loss: 0.0351 - val_loss: 0.0345\n",
      "Epoch 8/40\n",
      "49920/50000 [============================>.] - ETA: 0s - loss: 0.0350\n",
      "Epoch 00008: val_loss improved from 0.03434 to 0.03406, saving model to best_model2.h5\n",
      "50000/50000 [==============================] - 97s 2ms/sample - loss: 0.0350 - val_loss: 0.0341\n",
      "Epoch 9/40\n",
      "49920/50000 [============================>.] - ETA: 0s - loss: 0.0349\n",
      "Epoch 00009: val_loss did not improve from 0.03406\n",
      "50000/50000 [==============================] - 98s 2ms/sample - loss: 0.0349 - val_loss: 0.0341\n",
      "Epoch 10/40\n",
      "49920/50000 [============================>.] - ETA: 0s - loss: 0.0349\n",
      "Epoch 00010: val_loss did not improve from 0.03406\n",
      "50000/50000 [==============================] - 98s 2ms/sample - loss: 0.0349 - val_loss: 0.0342\n",
      "Epoch 11/40\n",
      "49920/50000 [============================>.] - ETA: 0s - loss: 0.0348\n",
      "Epoch 00011: val_loss improved from 0.03406 to 0.03391, saving model to best_model2.h5\n",
      "50000/50000 [==============================] - 98s 2ms/sample - loss: 0.0348 - val_loss: 0.0339\n",
      "Epoch 12/40\n",
      "49920/50000 [============================>.] - ETA: 0s - loss: 0.0348\n",
      "Epoch 00012: val_loss improved from 0.03391 to 0.03387, saving model to best_model2.h5\n",
      "50000/50000 [==============================] - 98s 2ms/sample - loss: 0.0348 - val_loss: 0.0339\n",
      "Epoch 13/40\n",
      "49920/50000 [============================>.] - ETA: 0s - loss: 0.0347\n",
      "Epoch 00013: val_loss improved from 0.03387 to 0.03380, saving model to best_model2.h5\n",
      "50000/50000 [==============================] - 98s 2ms/sample - loss: 0.0347 - val_loss: 0.0338\n",
      "Epoch 14/40\n",
      "49920/50000 [============================>.] - ETA: 0s - loss: 0.0347\n",
      "Epoch 00014: val_loss did not improve from 0.03380\n",
      "50000/50000 [==============================] - 98s 2ms/sample - loss: 0.0347 - val_loss: 0.0340\n",
      "Epoch 15/40\n",
      "49920/50000 [============================>.] - ETA: 0s - loss: 0.0346\n",
      "Epoch 00015: val_loss improved from 0.03380 to 0.03372, saving model to best_model2.h5\n",
      "50000/50000 [==============================] - 98s 2ms/sample - loss: 0.0346 - val_loss: 0.0337\n",
      "Epoch 16/40\n",
      "49920/50000 [============================>.] - ETA: 0s - loss: 0.0346\n",
      "Epoch 00016: val_loss improved from 0.03372 to 0.03367, saving model to best_model2.h5\n",
      "50000/50000 [==============================] - 98s 2ms/sample - loss: 0.0346 - val_loss: 0.0337\n",
      "Epoch 17/40\n",
      "49920/50000 [============================>.] - ETA: 0s - loss: 0.0346\n",
      "Epoch 00017: val_loss improved from 0.03367 to 0.03364, saving model to best_model2.h5\n",
      "50000/50000 [==============================] - 97s 2ms/sample - loss: 0.0346 - val_loss: 0.0336\n",
      "Epoch 18/40\n",
      "49920/50000 [============================>.] - ETA: 0s - loss: 0.0345\n",
      "Epoch 00018: val_loss did not improve from 0.03364\n",
      "50000/50000 [==============================] - 98s 2ms/sample - loss: 0.0345 - val_loss: 0.0337\n",
      "Epoch 19/40\n",
      "49920/50000 [============================>.] - ETA: 0s - loss: 0.0345\n",
      "Epoch 00019: val_loss improved from 0.03364 to 0.03360, saving model to best_model2.h5\n",
      "50000/50000 [==============================] - 98s 2ms/sample - loss: 0.0345 - val_loss: 0.0336\n",
      "Epoch 20/40\n",
      "49920/50000 [============================>.] - ETA: 0s - loss: 0.0345\n",
      "Epoch 00020: val_loss did not improve from 0.03360\n",
      "50000/50000 [==============================] - 98s 2ms/sample - loss: 0.0345 - val_loss: 0.0338\n",
      "Epoch 21/40\n",
      "49920/50000 [============================>.] - ETA: 0s - loss: 0.0345\n",
      "Epoch 00021: val_loss did not improve from 0.03360\n",
      "50000/50000 [==============================] - 98s 2ms/sample - loss: 0.0345 - val_loss: 0.0336\n",
      "Epoch 22/40\n",
      "49920/50000 [============================>.] - ETA: 0s - loss: 0.0345\n",
      "Epoch 00022: val_loss improved from 0.03360 to 0.03355, saving model to best_model2.h5\n",
      "50000/50000 [==============================] - 98s 2ms/sample - loss: 0.0345 - val_loss: 0.0336\n",
      "Epoch 23/40\n",
      "49920/50000 [============================>.] - ETA: 0s - loss: 0.0344\n",
      "Epoch 00023: val_loss did not improve from 0.03355\n",
      "50000/50000 [==============================] - 98s 2ms/sample - loss: 0.0344 - val_loss: 0.0336\n",
      "Epoch 24/40\n",
      "49920/50000 [============================>.] - ETA: 0s - loss: 0.0344\n",
      "Epoch 00024: val_loss did not improve from 0.03355\n",
      "50000/50000 [==============================] - 98s 2ms/sample - loss: 0.0344 - val_loss: 0.0336\n",
      "Epoch 25/40\n",
      "49920/50000 [============================>.] - ETA: 0s - loss: 0.0344\n",
      "Epoch 00025: val_loss did not improve from 0.03355\n",
      "50000/50000 [==============================] - 98s 2ms/sample - loss: 0.0344 - val_loss: 0.0338\n",
      "Epoch 26/40\n",
      "49920/50000 [============================>.] - ETA: 0s - loss: 0.0344\n",
      "Epoch 00026: val_loss improved from 0.03355 to 0.03355, saving model to best_model2.h5\n",
      "50000/50000 [==============================] - 98s 2ms/sample - loss: 0.0344 - val_loss: 0.0335\n",
      "Epoch 27/40\n",
      "49920/50000 [============================>.] - ETA: 0s - loss: 0.0344\n",
      "Epoch 00027: val_loss improved from 0.03355 to 0.03351, saving model to best_model2.h5\n",
      "50000/50000 [==============================] - 101s 2ms/sample - loss: 0.0344 - val_loss: 0.0335\n",
      "Epoch 28/40\n",
      "49920/50000 [============================>.] - ETA: 0s - loss: 0.0344\n",
      "Epoch 00028: val_loss did not improve from 0.03351\n",
      "50000/50000 [==============================] - 101s 2ms/sample - loss: 0.0344 - val_loss: 0.0335\n",
      "Epoch 29/40\n",
      "49920/50000 [============================>.] - ETA: 0s - loss: 0.0344\n",
      "Epoch 00029: val_loss did not improve from 0.03351\n",
      "50000/50000 [==============================] - 98s 2ms/sample - loss: 0.0344 - val_loss: 0.0335\n",
      "Epoch 30/40\n",
      "49920/50000 [============================>.] - ETA: 0s - loss: 0.0344\n",
      "Epoch 00030: val_loss did not improve from 0.03351\n",
      "50000/50000 [==============================] - 98s 2ms/sample - loss: 0.0344 - val_loss: 0.0336\n",
      "Epoch 31/40\n",
      "49920/50000 [============================>.] - ETA: 0s - loss: 0.0344\n",
      "Epoch 00031: val_loss did not improve from 0.03351\n",
      "50000/50000 [==============================] - 98s 2ms/sample - loss: 0.0344 - val_loss: 0.0336\n",
      "Epoch 32/40\n",
      "49920/50000 [============================>.] - ETA: 0s - loss: 0.0343\n",
      "Epoch 00032: val_loss did not improve from 0.03351\n",
      "50000/50000 [==============================] - 98s 2ms/sample - loss: 0.0343 - val_loss: 0.0336\n",
      "Epoch 33/40\n",
      "49920/50000 [============================>.] - ETA: 0s - loss: 0.0343\n",
      "Epoch 00033: val_loss improved from 0.03351 to 0.03350, saving model to best_model2.h5\n",
      "50000/50000 [==============================] - 99s 2ms/sample - loss: 0.0343 - val_loss: 0.0335\n"
     ]
    },
    {
     "name": "stdout",
     "output_type": "stream",
     "text": [
      "Epoch 34/40\n",
      "49920/50000 [============================>.] - ETA: 0s - loss: 0.0343\n",
      "Epoch 00034: val_loss did not improve from 0.03350\n",
      "50000/50000 [==============================] - 98s 2ms/sample - loss: 0.0343 - val_loss: 0.0335\n",
      "Epoch 35/40\n",
      "49920/50000 [============================>.] - ETA: 0s - loss: 0.0343\n",
      "Epoch 00035: val_loss improved from 0.03350 to 0.03348, saving model to best_model2.h5\n",
      "50000/50000 [==============================] - 96s 2ms/sample - loss: 0.0343 - val_loss: 0.0335\n",
      "Epoch 36/40\n",
      "49920/50000 [============================>.] - ETA: 0s - loss: 0.0343\n",
      "Epoch 00036: val_loss improved from 0.03348 to 0.03347, saving model to best_model2.h5\n",
      "50000/50000 [==============================] - 96s 2ms/sample - loss: 0.0343 - val_loss: 0.0335\n",
      "Epoch 37/40\n",
      "49920/50000 [============================>.] - ETA: 0s - loss: 0.0343\n",
      "Epoch 00037: val_loss did not improve from 0.03347\n",
      "50000/50000 [==============================] - 96s 2ms/sample - loss: 0.0343 - val_loss: 0.0335\n",
      "Epoch 38/40\n",
      "49920/50000 [============================>.] - ETA: 0s - loss: 0.0343\n",
      "Epoch 00038: val_loss did not improve from 0.03347\n",
      "50000/50000 [==============================] - 96s 2ms/sample - loss: 0.0343 - val_loss: 0.0335\n",
      "Epoch 39/40\n",
      "49920/50000 [============================>.] - ETA: 0s - loss: 0.0343\n",
      "Epoch 00039: val_loss did not improve from 0.03347\n",
      "50000/50000 [==============================] - 95s 2ms/sample - loss: 0.0343 - val_loss: 0.0335\n",
      "Epoch 40/40\n",
      "49920/50000 [============================>.] - ETA: 0s - loss: 0.0343\n",
      "Epoch 00040: val_loss did not improve from 0.03347\n",
      "50000/50000 [==============================] - 95s 2ms/sample - loss: 0.0343 - val_loss: 0.0335\n"
     ]
    },
    {
     "data": {
      "text/plain": [
       "<tensorflow.python.keras.callbacks.History at 0x7f494445bed0>"
      ]
     },
     "execution_count": 26,
     "metadata": {},
     "output_type": "execute_result"
    }
   ],
   "source": [
    "dae2 = denoising_autoencoder()\n",
    "dae2.compile(optimizer='adam', loss='mse')\n",
    "\n",
    "checkpoint = ModelCheckpoint('best_model2.h5', verbose=1, save_best_only=True, save_weights_only=True)\n",
    "\n",
    "dae2.fit(train2,\n",
    "       train2,\n",
    "       validation_data=(test2, test2),\n",
    "       epochs=40,\n",
    "       batch_size=128,\n",
    "       callbacks=[checkpoint])"
   ]
  },
  {
   "cell_type": "code",
   "execution_count": 27,
   "metadata": {},
   "outputs": [
    {
     "name": "stdout",
     "output_type": "stream",
     "text": [
      "Accuracy on denoised 0.01 test examples: 35.260000000000005%\n",
      "Accuracy on Original test examples: 54.92%\n",
      "Accuracy on denoised 0.1 test examples: 10.209999999999999%\n"
     ]
    }
   ],
   "source": [
    "test11 = dae2.predict(test1)\n",
    "test12 = dae2.predict(x_test)\n",
    "test13 = dae2.predict(test2)\n",
    "\n",
    "pred1 = model.predict(test11)\n",
    "pred2 = model.predict(test12)\n",
    "pred3 = model.predict(test13)\n",
    "\n",
    "accuracy = np.sum(np.argmax(pred1, axis=1) == np.argmax(y_test, axis=1)) / len(y_test)\n",
    "print(\"Accuracy on denoised 0.01 test examples: {}%\".format(accuracy * 100))\n",
    "\n",
    "accuracy = np.sum(np.argmax(pred2, axis=1) == np.argmax(y_test, axis=1)) / len(y_test)\n",
    "print(\"Accuracy on Original test examples: {}%\".format(accuracy * 100))\n",
    "\n",
    "accuracy = np.sum(np.argmax(pred3, axis=1) == np.argmax(y_test, axis=1)) / len(y_test)\n",
    "print(\"Accuracy on denoised 0.1 test examples: {}%\".format(accuracy * 100))"
   ]
  },
  {
   "cell_type": "markdown",
   "metadata": {},
   "source": [
    "## DAE trained on eps = 0.01 fgsm samples and clean data"
   ]
  },
  {
   "cell_type": "code",
   "execution_count": 31,
   "metadata": {},
   "outputs": [
    {
     "name": "stdout",
     "output_type": "stream",
     "text": [
      "Train on 50000 samples, validate on 10000 samples\n",
      "Epoch 1/30\n",
      "49920/50000 [============================>.] - ETA: 0s - loss: 0.0351\n",
      "Epoch 00001: val_loss improved from inf to 0.03377, saving model to best_model4.h5\n",
      "50000/50000 [==============================] - 107s 2ms/sample - loss: 0.0351 - val_loss: 0.0338\n",
      "Epoch 2/30\n",
      "49920/50000 [============================>.] - ETA: 0s - loss: 0.0300\n",
      "Epoch 00002: val_loss improved from 0.03377 to 0.02925, saving model to best_model4.h5\n",
      "50000/50000 [==============================] - 97s 2ms/sample - loss: 0.0300 - val_loss: 0.0292\n",
      "Epoch 3/30\n",
      "49920/50000 [============================>.] - ETA: 0s - loss: 0.0297\n",
      "Epoch 00003: val_loss improved from 0.02925 to 0.02882, saving model to best_model4.h5\n",
      "50000/50000 [==============================] - 98s 2ms/sample - loss: 0.0297 - val_loss: 0.0288\n",
      "Epoch 4/30\n",
      "49920/50000 [============================>.] - ETA: 0s - loss: 0.0296\n",
      "Epoch 00004: val_loss improved from 0.02882 to 0.02874, saving model to best_model4.h5\n",
      "50000/50000 [==============================] - 99s 2ms/sample - loss: 0.0296 - val_loss: 0.0287\n",
      "Epoch 5/30\n",
      "49920/50000 [============================>.] - ETA: 0s - loss: 0.0296\n",
      "Epoch 00005: val_loss improved from 0.02874 to 0.02866, saving model to best_model4.h5\n",
      "50000/50000 [==============================] - 99s 2ms/sample - loss: 0.0296 - val_loss: 0.0287\n",
      "Epoch 6/30\n",
      "49920/50000 [============================>.] - ETA: 0s - loss: 0.0295\n",
      "Epoch 00006: val_loss improved from 0.02866 to 0.02863, saving model to best_model4.h5\n",
      "50000/50000 [==============================] - 99s 2ms/sample - loss: 0.0295 - val_loss: 0.0286\n",
      "Epoch 7/30\n",
      "49920/50000 [============================>.] - ETA: 0s - loss: 0.0294\n",
      "Epoch 00007: val_loss improved from 0.02863 to 0.02859, saving model to best_model4.h5\n",
      "50000/50000 [==============================] - 98s 2ms/sample - loss: 0.0294 - val_loss: 0.0286\n",
      "Epoch 8/30\n",
      "49920/50000 [============================>.] - ETA: 0s - loss: 0.0294\n",
      "Epoch 00008: val_loss improved from 0.02859 to 0.02857, saving model to best_model4.h5\n",
      "50000/50000 [==============================] - 98s 2ms/sample - loss: 0.0294 - val_loss: 0.0286\n",
      "Epoch 9/30\n",
      "49920/50000 [============================>.] - ETA: 0s - loss: 0.0294\n",
      "Epoch 00009: val_loss did not improve from 0.02857\n",
      "50000/50000 [==============================] - 98s 2ms/sample - loss: 0.0294 - val_loss: 0.0286\n",
      "Epoch 10/30\n",
      "49920/50000 [============================>.] - ETA: 0s - loss: 0.0294\n",
      "Epoch 00010: val_loss improved from 0.02857 to 0.02854, saving model to best_model4.h5\n",
      "50000/50000 [==============================] - 98s 2ms/sample - loss: 0.0294 - val_loss: 0.0285\n",
      "Epoch 11/30\n",
      "49920/50000 [============================>.] - ETA: 0s - loss: 0.0293\n",
      "Epoch 00011: val_loss improved from 0.02854 to 0.02851, saving model to best_model4.h5\n",
      "50000/50000 [==============================] - 98s 2ms/sample - loss: 0.0293 - val_loss: 0.0285\n",
      "Epoch 12/30\n",
      "49920/50000 [============================>.] - ETA: 0s - loss: 0.0293\n",
      "Epoch 00012: val_loss did not improve from 0.02851\n",
      "50000/50000 [==============================] - 98s 2ms/sample - loss: 0.0293 - val_loss: 0.0286\n",
      "Epoch 13/30\n",
      "49920/50000 [============================>.] - ETA: 0s - loss: 0.0293\n",
      "Epoch 00013: val_loss improved from 0.02851 to 0.02849, saving model to best_model4.h5\n",
      "50000/50000 [==============================] - 98s 2ms/sample - loss: 0.0293 - val_loss: 0.0285\n",
      "Epoch 14/30\n",
      "49920/50000 [============================>.] - ETA: 0s - loss: 0.0293\n",
      "Epoch 00014: val_loss did not improve from 0.02849\n",
      "50000/50000 [==============================] - 98s 2ms/sample - loss: 0.0293 - val_loss: 0.0286\n",
      "Epoch 15/30\n",
      "49920/50000 [============================>.] - ETA: 0s - loss: 0.0293\n",
      "Epoch 00015: val_loss did not improve from 0.02849\n",
      "50000/50000 [==============================] - 98s 2ms/sample - loss: 0.0293 - val_loss: 0.0285\n",
      "Epoch 16/30\n",
      "49920/50000 [============================>.] - ETA: 0s - loss: 0.0293\n",
      "Epoch 00016: val_loss did not improve from 0.02849\n",
      "50000/50000 [==============================] - 99s 2ms/sample - loss: 0.0292 - val_loss: 0.0288\n",
      "Epoch 17/30\n",
      "49920/50000 [============================>.] - ETA: 0s - loss: 0.0292\n",
      "Epoch 00017: val_loss improved from 0.02849 to 0.02843, saving model to best_model4.h5\n",
      "50000/50000 [==============================] - 98s 2ms/sample - loss: 0.0292 - val_loss: 0.0284\n",
      "Epoch 18/30\n",
      "49920/50000 [============================>.] - ETA: 0s - loss: 0.0292\n",
      "Epoch 00018: val_loss improved from 0.02843 to 0.02842, saving model to best_model4.h5\n",
      "50000/50000 [==============================] - 98s 2ms/sample - loss: 0.0292 - val_loss: 0.0284\n",
      "Epoch 19/30\n",
      "49920/50000 [============================>.] - ETA: 0s - loss: 0.0292\n",
      "Epoch 00019: val_loss improved from 0.02842 to 0.02841, saving model to best_model4.h5\n",
      "50000/50000 [==============================] - 98s 2ms/sample - loss: 0.0292 - val_loss: 0.0284\n",
      "Epoch 20/30\n",
      "49920/50000 [============================>.] - ETA: 0s - loss: 0.0292\n",
      "Epoch 00020: val_loss improved from 0.02841 to 0.02840, saving model to best_model4.h5\n",
      "50000/50000 [==============================] - 99s 2ms/sample - loss: 0.0292 - val_loss: 0.0284\n",
      "Epoch 21/30\n",
      "49920/50000 [============================>.] - ETA: 0s - loss: 0.0291\n",
      "Epoch 00021: val_loss improved from 0.02840 to 0.02838, saving model to best_model4.h5\n",
      "50000/50000 [==============================] - 99s 2ms/sample - loss: 0.0291 - val_loss: 0.0284\n",
      "Epoch 22/30\n",
      "49920/50000 [============================>.] - ETA: 0s - loss: 0.0291\n",
      "Epoch 00022: val_loss improved from 0.02838 to 0.02838, saving model to best_model4.h5\n",
      "50000/50000 [==============================] - 99s 2ms/sample - loss: 0.0291 - val_loss: 0.0284\n",
      "Epoch 23/30\n",
      "49920/50000 [============================>.] - ETA: 0s - loss: 0.0291\n",
      "Epoch 00023: val_loss did not improve from 0.02838\n",
      "50000/50000 [==============================] - 99s 2ms/sample - loss: 0.0291 - val_loss: 0.0284\n",
      "Epoch 24/30\n",
      "49920/50000 [============================>.] - ETA: 0s - loss: 0.0291\n",
      "Epoch 00024: val_loss improved from 0.02838 to 0.02837, saving model to best_model4.h5\n",
      "50000/50000 [==============================] - 98s 2ms/sample - loss: 0.0291 - val_loss: 0.0284\n",
      "Epoch 25/30\n",
      "49920/50000 [============================>.] - ETA: 0s - loss: 0.0291\n",
      "Epoch 00025: val_loss improved from 0.02837 to 0.02837, saving model to best_model4.h5\n",
      "50000/50000 [==============================] - 99s 2ms/sample - loss: 0.0291 - val_loss: 0.0284\n",
      "Epoch 26/30\n",
      "49920/50000 [============================>.] - ETA: 0s - loss: 0.0291\n",
      "Epoch 00026: val_loss improved from 0.02837 to 0.02836, saving model to best_model4.h5\n",
      "50000/50000 [==============================] - 99s 2ms/sample - loss: 0.0291 - val_loss: 0.0284\n",
      "Epoch 27/30\n",
      "49920/50000 [============================>.] - ETA: 0s - loss: 0.0291\n",
      "Epoch 00027: val_loss did not improve from 0.02836\n",
      "50000/50000 [==============================] - 99s 2ms/sample - loss: 0.0291 - val_loss: 0.0284\n",
      "Epoch 28/30\n",
      "49920/50000 [============================>.] - ETA: 0s - loss: 0.0291\n",
      "Epoch 00028: val_loss did not improve from 0.02836\n",
      "50000/50000 [==============================] - 98s 2ms/sample - loss: 0.0291 - val_loss: 0.0284\n",
      "Epoch 29/30\n",
      "49920/50000 [============================>.] - ETA: 0s - loss: 0.0291\n",
      "Epoch 00029: val_loss did not improve from 0.02836\n",
      "50000/50000 [==============================] - 98s 2ms/sample - loss: 0.0291 - val_loss: 0.0285\n",
      "Epoch 30/30\n",
      "49920/50000 [============================>.] - ETA: 0s - loss: 0.0291\n",
      "Epoch 00030: val_loss improved from 0.02836 to 0.02835, saving model to best_model4.h5\n",
      "50000/50000 [==============================] - 99s 2ms/sample - loss: 0.0291 - val_loss: 0.0283\n"
     ]
    },
    {
     "data": {
      "text/plain": [
       "<tensorflow.python.keras.callbacks.History at 0x7f491126bc10>"
      ]
     },
     "execution_count": 31,
     "metadata": {},
     "output_type": "execute_result"
    }
   ],
   "source": [
    "dae4 = denoising_autoencoder()\n",
    "dae4.compile(optimizer='adam', loss='mse')\n",
    "\n",
    "checkpoint = ModelCheckpoint('best_model4.h5', verbose=1, save_best_only=True, save_weights_only=True)\n",
    "\n",
    "dae3.fit(train1,\n",
    "       x_train,\n",
    "       validation_data=(test1, x_test),\n",
    "       epochs=30,\n",
    "       batch_size=128,\n",
    "       callbacks=[checkpoint])"
   ]
  },
  {
   "cell_type": "code",
   "execution_count": 34,
   "metadata": {},
   "outputs": [
    {
     "name": "stdout",
     "output_type": "stream",
     "text": [
      "Accuracy on denoised 0.01 test examples: 10.7%\n",
      "Accuracy on Original test examples: 10.73%\n",
      "Accuracy on denoised 0.1 test examples: 10.8%\n"
     ]
    }
   ],
   "source": [
    "test11 = dae4.predict(test1)\n",
    "test12 = dae4.predict(x_test)\n",
    "test13 = dae4.predict(test2)\n",
    "\n",
    "pred1 = model.predict(test11)\n",
    "pred2 = model.predict(test12)\n",
    "pred3 = model.predict(test13)\n",
    "\n",
    "accuracy = np.sum(np.argmax(pred1, axis=1) == np.argmax(y_test, axis=1)) / len(y_test)\n",
    "print(\"Accuracy on denoised 0.01 test examples: {}%\".format(accuracy * 100))\n",
    "\n",
    "accuracy = np.sum(np.argmax(pred2, axis=1) == np.argmax(y_test, axis=1)) / len(y_test)\n",
    "print(\"Accuracy on Original test examples: {}%\".format(accuracy * 100))\n",
    "\n",
    "accuracy = np.sum(np.argmax(pred3, axis=1) == np.argmax(y_test, axis=1)) / len(y_test)\n",
    "print(\"Accuracy on denoised 0.1 test examples: {}%\".format(accuracy * 100))"
   ]
  },
  {
   "cell_type": "markdown",
   "metadata": {},
   "source": [
    "## DAE trained on eps = 0.1 fgsm samples and clean samples"
   ]
  },
  {
   "cell_type": "code",
   "execution_count": 32,
   "metadata": {
    "scrolled": true
   },
   "outputs": [
    {
     "name": "stdout",
     "output_type": "stream",
     "text": [
      "Train on 50000 samples, validate on 10000 samples\n",
      "Epoch 1/30\n",
      "49920/50000 [============================>.] - ETA: 0s - loss: 0.0362\n",
      "Epoch 00001: val_loss improved from inf to 0.03114, saving model to best_model5.h5\n",
      "50000/50000 [==============================] - 106s 2ms/sample - loss: 0.0361 - val_loss: 0.0311\n",
      "Epoch 2/30\n",
      "49920/50000 [============================>.] - ETA: 0s - loss: 0.0306\n",
      "Epoch 00002: val_loss improved from 0.03114 to 0.03061, saving model to best_model5.h5\n",
      "50000/50000 [==============================] - 97s 2ms/sample - loss: 0.0306 - val_loss: 0.0306\n",
      "Epoch 3/30\n",
      "49920/50000 [============================>.] - ETA: 0s - loss: 0.0303\n",
      "Epoch 00003: val_loss improved from 0.03061 to 0.02940, saving model to best_model5.h5\n",
      "50000/50000 [==============================] - 97s 2ms/sample - loss: 0.0303 - val_loss: 0.0294\n",
      "Epoch 4/30\n",
      "49920/50000 [============================>.] - ETA: 0s - loss: 0.0302\n",
      "Epoch 00004: val_loss improved from 0.02940 to 0.02933, saving model to best_model5.h5\n",
      "50000/50000 [==============================] - 97s 2ms/sample - loss: 0.0302 - val_loss: 0.0293\n",
      "Epoch 5/30\n",
      "49920/50000 [============================>.] - ETA: 0s - loss: 0.0301\n",
      "Epoch 00005: val_loss improved from 0.02933 to 0.02932, saving model to best_model5.h5\n",
      "50000/50000 [==============================] - 97s 2ms/sample - loss: 0.0301 - val_loss: 0.0293\n",
      "Epoch 6/30\n",
      "49920/50000 [============================>.] - ETA: 0s - loss: 0.0300\n",
      "Epoch 00006: val_loss improved from 0.02932 to 0.02928, saving model to best_model5.h5\n",
      "50000/50000 [==============================] - 97s 2ms/sample - loss: 0.0300 - val_loss: 0.0293\n",
      "Epoch 7/30\n",
      "49920/50000 [============================>.] - ETA: 0s - loss: 0.0300\n",
      "Epoch 00007: val_loss improved from 0.02928 to 0.02919, saving model to best_model5.h5\n",
      "50000/50000 [==============================] - 97s 2ms/sample - loss: 0.0300 - val_loss: 0.0292\n",
      "Epoch 8/30\n",
      "49920/50000 [============================>.] - ETA: 0s - loss: 0.0300\n",
      "Epoch 00008: val_loss improved from 0.02919 to 0.02914, saving model to best_model5.h5\n",
      "50000/50000 [==============================] - 97s 2ms/sample - loss: 0.0300 - val_loss: 0.0291\n",
      "Epoch 9/30\n",
      "49920/50000 [============================>.] - ETA: 0s - loss: 0.0299\n",
      "Epoch 00009: val_loss did not improve from 0.02914\n",
      "50000/50000 [==============================] - 96s 2ms/sample - loss: 0.0299 - val_loss: 0.0292\n",
      "Epoch 10/30\n",
      "49920/50000 [============================>.] - ETA: 0s - loss: 0.0299\n",
      "Epoch 00010: val_loss improved from 0.02914 to 0.02908, saving model to best_model5.h5\n",
      "50000/50000 [==============================] - 96s 2ms/sample - loss: 0.0299 - val_loss: 0.0291\n",
      "Epoch 11/30\n",
      "49920/50000 [============================>.] - ETA: 0s - loss: 0.0299\n",
      "Epoch 00011: val_loss did not improve from 0.02908\n",
      "50000/50000 [==============================] - 96s 2ms/sample - loss: 0.0299 - val_loss: 0.0292\n",
      "Epoch 12/30\n",
      "49920/50000 [============================>.] - ETA: 0s - loss: 0.0298\n",
      "Epoch 00012: val_loss did not improve from 0.02908\n",
      "50000/50000 [==============================] - 97s 2ms/sample - loss: 0.0298 - val_loss: 0.0291\n",
      "Epoch 13/30\n",
      "49920/50000 [============================>.] - ETA: 0s - loss: 0.0298\n",
      "Epoch 00013: val_loss improved from 0.02908 to 0.02906, saving model to best_model5.h5\n",
      "50000/50000 [==============================] - 97s 2ms/sample - loss: 0.0298 - val_loss: 0.0291\n",
      "Epoch 14/30\n",
      "49920/50000 [============================>.] - ETA: 0s - loss: 0.0298\n",
      "Epoch 00014: val_loss improved from 0.02906 to 0.02902, saving model to best_model5.h5\n",
      "50000/50000 [==============================] - 97s 2ms/sample - loss: 0.0298 - val_loss: 0.0290\n",
      "Epoch 15/30\n",
      "49920/50000 [============================>.] - ETA: 0s - loss: 0.0298\n",
      "Epoch 00015: val_loss did not improve from 0.02902\n",
      "50000/50000 [==============================] - 99s 2ms/sample - loss: 0.0298 - val_loss: 0.0290\n",
      "Epoch 16/30\n",
      "49920/50000 [============================>.] - ETA: 0s - loss: 0.0298\n",
      "Epoch 00016: val_loss did not improve from 0.02902\n",
      "50000/50000 [==============================] - 97s 2ms/sample - loss: 0.0298 - val_loss: 0.0292\n",
      "Epoch 17/30\n",
      "49920/50000 [============================>.] - ETA: 0s - loss: 0.0298\n",
      "Epoch 00017: val_loss did not improve from 0.02902\n",
      "50000/50000 [==============================] - 97s 2ms/sample - loss: 0.0298 - val_loss: 0.0291\n",
      "Epoch 18/30\n",
      "49920/50000 [============================>.] - ETA: 0s - loss: 0.0298\n",
      "Epoch 00018: val_loss improved from 0.02902 to 0.02900, saving model to best_model5.h5\n",
      "50000/50000 [==============================] - 100s 2ms/sample - loss: 0.0298 - val_loss: 0.0290\n",
      "Epoch 19/30\n",
      "49920/50000 [============================>.] - ETA: 0s - loss: 0.0298\n",
      "Epoch 00019: val_loss did not improve from 0.02900\n",
      "50000/50000 [==============================] - 99s 2ms/sample - loss: 0.0298 - val_loss: 0.0290\n",
      "Epoch 20/30\n",
      "49920/50000 [============================>.] - ETA: 0s - loss: 0.0297\n",
      "Epoch 00020: val_loss did not improve from 0.02900\n",
      "50000/50000 [==============================] - 99s 2ms/sample - loss: 0.0297 - val_loss: 0.0291\n",
      "Epoch 21/30\n",
      "49920/50000 [============================>.] - ETA: 0s - loss: 0.0297\n",
      "Epoch 00021: val_loss improved from 0.02900 to 0.02896, saving model to best_model5.h5\n",
      "50000/50000 [==============================] - 99s 2ms/sample - loss: 0.0297 - val_loss: 0.0290\n",
      "Epoch 22/30\n",
      "49920/50000 [============================>.] - ETA: 0s - loss: 0.0297\n",
      "Epoch 00022: val_loss improved from 0.02896 to 0.02896, saving model to best_model5.h5\n",
      "50000/50000 [==============================] - 99s 2ms/sample - loss: 0.0297 - val_loss: 0.0290\n",
      "Epoch 23/30\n",
      "49920/50000 [============================>.] - ETA: 0s - loss: 0.0297\n",
      "Epoch 00023: val_loss did not improve from 0.02896\n",
      "50000/50000 [==============================] - 99s 2ms/sample - loss: 0.0297 - val_loss: 0.0290\n",
      "Epoch 24/30\n",
      "49920/50000 [============================>.] - ETA: 0s - loss: 0.0297\n",
      "Epoch 00024: val_loss did not improve from 0.02896\n",
      "50000/50000 [==============================] - 102s 2ms/sample - loss: 0.0297 - val_loss: 0.0290\n",
      "Epoch 25/30\n",
      "49920/50000 [============================>.] - ETA: 0s - loss: 0.0297\n",
      "Epoch 00025: val_loss improved from 0.02896 to 0.02894, saving model to best_model5.h5\n",
      "50000/50000 [==============================] - 103s 2ms/sample - loss: 0.0296 - val_loss: 0.0289\n",
      "Epoch 26/30\n",
      "49920/50000 [============================>.] - ETA: 0s - loss: 0.0296\n",
      "Epoch 00026: val_loss did not improve from 0.02894\n",
      "50000/50000 [==============================] - 103s 2ms/sample - loss: 0.0296 - val_loss: 0.0290\n",
      "Epoch 27/30\n",
      "49920/50000 [============================>.] - ETA: 0s - loss: 0.0296\n",
      "Epoch 00027: val_loss improved from 0.02894 to 0.02893, saving model to best_model5.h5\n",
      "50000/50000 [==============================] - 103s 2ms/sample - loss: 0.0296 - val_loss: 0.0289\n",
      "Epoch 28/30\n",
      "49920/50000 [============================>.] - ETA: 0s - loss: 0.0296\n",
      "Epoch 00028: val_loss did not improve from 0.02893\n",
      "50000/50000 [==============================] - 103s 2ms/sample - loss: 0.0296 - val_loss: 0.0290\n",
      "Epoch 29/30\n",
      "49920/50000 [============================>.] - ETA: 0s - loss: 0.0296\n",
      "Epoch 00029: val_loss improved from 0.02893 to 0.02892, saving model to best_model5.h5\n",
      "50000/50000 [==============================] - 102s 2ms/sample - loss: 0.0296 - val_loss: 0.0289\n",
      "Epoch 30/30\n",
      "49920/50000 [============================>.] - ETA: 0s - loss: 0.0296\n",
      "Epoch 00030: val_loss did not improve from 0.02892\n",
      "50000/50000 [==============================] - 102s 2ms/sample - loss: 0.0296 - val_loss: 0.0289\n"
     ]
    },
    {
     "data": {
      "text/plain": [
       "<tensorflow.python.keras.callbacks.History at 0x7f4910eb8450>"
      ]
     },
     "execution_count": 32,
     "metadata": {},
     "output_type": "execute_result"
    }
   ],
   "source": [
    "dae5 = denoising_autoencoder()\n",
    "dae5.compile(optimizer='adam', loss='mse')\n",
    "\n",
    "checkpoint = ModelCheckpoint('best_model5.h5', verbose=1, save_best_only=True, save_weights_only=True)\n",
    "\n",
    "dae5.fit(train2,\n",
    "       x_train,\n",
    "       validation_data=(test2, x_test),\n",
    "       epochs=30,\n",
    "       batch_size=128,\n",
    "       callbacks=[checkpoint])"
   ]
  },
  {
   "cell_type": "code",
   "execution_count": 35,
   "metadata": {},
   "outputs": [
    {
     "name": "stdout",
     "output_type": "stream",
     "text": [
      "Accuracy on denoised 0.01 test examples: 45.26%\n",
      "Accuracy on Original test examples: 46.57%\n",
      "Accuracy on denoised 0.1 test examples: 31.430000000000003%\n"
     ]
    }
   ],
   "source": [
    "test11 = dae5.predict(test1)\n",
    "test12 = dae5.predict(x_test)\n",
    "test13 = dae5.predict(test2)\n",
    "\n",
    "pred1 = model.predict(test11)\n",
    "pred2 = model.predict(test12)\n",
    "pred3 = model.predict(test13)\n",
    "\n",
    "accuracy = np.sum(np.argmax(pred1, axis=1) == np.argmax(y_test, axis=1)) / len(y_test)\n",
    "print(\"Accuracy on denoised 0.01 test examples: {}%\".format(accuracy * 100))\n",
    "\n",
    "accuracy = np.sum(np.argmax(pred2, axis=1) == np.argmax(y_test, axis=1)) / len(y_test)\n",
    "print(\"Accuracy on Original test examples: {}%\".format(accuracy * 100))\n",
    "\n",
    "accuracy = np.sum(np.argmax(pred3, axis=1) == np.argmax(y_test, axis=1)) / len(y_test)\n",
    "print(\"Accuracy on denoised 0.1 test examples: {}%\".format(accuracy * 100))"
   ]
  }
 ],
 "metadata": {
  "kernelspec": {
   "display_name": "Python [conda env:tensorflow1.1] *",
   "language": "python",
   "name": "conda-env-tensorflow1.1-py"
  },
  "language_info": {
   "codemirror_mode": {
    "name": "ipython",
    "version": 3
   },
   "file_extension": ".py",
   "mimetype": "text/x-python",
   "name": "python",
   "nbconvert_exporter": "python",
   "pygments_lexer": "ipython3",
   "version": "3.7.6"
  }
 },
 "nbformat": 4,
 "nbformat_minor": 4
}
